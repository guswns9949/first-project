{
 "cells": [
  {
   "cell_type": "markdown",
   "id": "2f6d7b8d",
   "metadata": {},
   "source": [
    "## 임포트 구간"
   ]
  },
  {
   "cell_type": "code",
   "execution_count": 1,
   "id": "7e9ceda9",
   "metadata": {},
   "outputs": [],
   "source": [
    "import numpy as np\n",
    "import pandas as pd\n",
    "# from tqdm import tqdm_notebook\n",
    "# import requests\n",
    "# from bs4 import BeautifulSoup\n",
    "# import time\n",
    "# from selenium import webdriver as wb\n",
    "# from selenium.webdriver.common.keys import Keys\n",
    "# from urllib.request import urlretrieve\n",
    "# from selenium.webdriver.chrome.options import Options\n",
    "# import datetime"
   ]
  },
  {
   "cell_type": "code",
   "execution_count": 2,
   "id": "e2848bb1",
   "metadata": {},
   "outputs": [],
   "source": [
    "# 크롤링 모듈 임포트\n",
    "from FMKC01 import *"
   ]
  },
  {
   "cell_type": "markdown",
   "id": "ed491f12",
   "metadata": {},
   "source": [
    "## 저장시킬 엑셀파일명 정해주는 변수 (확인!!!)"
   ]
  },
  {
   "cell_type": "code",
   "execution_count": 3,
   "id": "1d312087",
   "metadata": {},
   "outputs": [],
   "source": [
    "board_name = \"게시판이름\""
   ]
  },
  {
   "cell_type": "markdown",
   "id": "b92ba18c",
   "metadata": {},
   "source": [
    "## 크롤링할 엑셀파일 불러오기 (확인!!!)"
   ]
  },
  {
   "cell_type": "code",
   "execution_count": 4,
   "id": "5ce1956d",
   "metadata": {
    "scrolled": true
   },
   "outputs": [
    {
     "data": {
      "text/html": [
       "<div>\n",
       "<style scoped>\n",
       "    .dataframe tbody tr th:only-of-type {\n",
       "        vertical-align: middle;\n",
       "    }\n",
       "\n",
       "    .dataframe tbody tr th {\n",
       "        vertical-align: top;\n",
       "    }\n",
       "\n",
       "    .dataframe thead th {\n",
       "        text-align: right;\n",
       "    }\n",
       "</style>\n",
       "<table border=\"1\" class=\"dataframe\">\n",
       "  <thead>\n",
       "    <tr style=\"text-align: right;\">\n",
       "      <th></th>\n",
       "      <th>title</th>\n",
       "      <th>url</th>\n",
       "    </tr>\n",
       "  </thead>\n",
       "  <tbody>\n",
       "    <tr>\n",
       "      <th>0</th>\n",
       "      <td>이거 샀어요ㅎㅎ (나이키 탈출)</td>\n",
       "      <td>https://www.fmkorea.com/4369970110</td>\n",
       "    </tr>\n",
       "    <tr>\n",
       "      <th>1</th>\n",
       "      <td>독일군 이 색으로도 유명한가요???</td>\n",
       "      <td>https://www.fmkorea.com/4369996943</td>\n",
       "    </tr>\n",
       "    <tr>\n",
       "      <th>2</th>\n",
       "      <td>근데 밑에 전시회 드코 짤 보고 궁금한데</td>\n",
       "      <td>https://www.fmkorea.com/4369998143</td>\n",
       "    </tr>\n",
       "    <tr>\n",
       "      <th>3</th>\n",
       "      <td>다시 척70 발목묶어봤슴다</td>\n",
       "      <td>https://www.fmkorea.com/4369995298</td>\n",
       "    </tr>\n",
       "    <tr>\n",
       "      <th>4</th>\n",
       "      <td>수염 안기르는게 나을까용</td>\n",
       "      <td>https://www.fmkorea.com/4369990721</td>\n",
       "    </tr>\n",
       "  </tbody>\n",
       "</table>\n",
       "</div>"
      ],
      "text/plain": [
       "                    title                                 url\n",
       "0       이거 샀어요ㅎㅎ (나이키 탈출)  https://www.fmkorea.com/4369970110\n",
       "1     독일군 이 색으로도 유명한가요???  https://www.fmkorea.com/4369996943\n",
       "2  근데 밑에 전시회 드코 짤 보고 궁금한데  https://www.fmkorea.com/4369998143\n",
       "3          다시 척70 발목묶어봤슴다  https://www.fmkorea.com/4369995298\n",
       "4           수염 안기르는게 나을까용  https://www.fmkorea.com/4369990721"
      ]
     },
     "execution_count": 4,
     "metadata": {},
     "output_type": "execute_result"
    }
   ],
   "source": [
    "read_df = pd.read_excel(\"./F_url_list/펨코테스트데이터.xlsx\") #<< 크롤링돌릴 엑셀 경로 입력\n",
    "read_df.head(5)"
   ]
  },
  {
   "cell_type": "code",
   "execution_count": 5,
   "id": "016809c6",
   "metadata": {},
   "outputs": [
    {
     "data": {
      "text/plain": [
       "(50, 50)"
      ]
     },
     "execution_count": 5,
     "metadata": {},
     "output_type": "execute_result"
    }
   ],
   "source": [
    "#  실행을 위한 리스트 생성\n",
    "title_list = read_df.loc[:,\"title\"]\n",
    "url_list = read_df.loc[:,\"url\"]\n",
    "len(url_list), len(title_list)"
   ]
  },
  {
   "cell_type": "markdown",
   "id": "8d75f14c",
   "metadata": {},
   "source": [
    "## 크롤링 실행 코드!"
   ]
  },
  {
   "cell_type": "code",
   "execution_count": 6,
   "id": "0d582053",
   "metadata": {},
   "outputs": [],
   "source": [
    "# 리스트 모음\n",
    "title_lst = [] # 게시글 제목 리스트\n",
    "title_url_lst = [] # 게시글 주소\n",
    "write_date_lst = [] # 게시글 작성일\n",
    "img_path_lst = [] # 이미지 저장 이름\n",
    "page_screenshot_lst = [] # 게시글 스크린샷\n",
    "kind_lst = [] # 커뮤니티 종류\n",
    "report_link_lst = [] # 신고 주소\n",
    "\n",
    "error_url_lst = [] # 크롤링 에러 발생 페이지 주소\n",
    "error_tit_lst = [] # 크롤링 에러 발생 페이지 제목"
   ]
  },
  {
   "cell_type": "code",
   "execution_count": 7,
   "id": "4cff4ab3",
   "metadata": {},
   "outputs": [
    {
     "name": "stderr",
     "output_type": "stream",
     "text": [
      "<ipython-input-7-af2f5d3d8fe7>:2: TqdmDeprecationWarning: This function will be removed in tqdm==5.0.0\n",
      "Please use `tqdm.notebook.tqdm` instead of `tqdm.tqdm_notebook`\n",
      "  for i in tqdm_notebook(range(len(url_list))):\n"
     ]
    },
    {
     "data": {
      "application/vnd.jupyter.widget-view+json": {
       "model_id": "56ce102c62f346488573b7d69778f31c",
       "version_major": 2,
       "version_minor": 0
      },
      "text/plain": [
       "  0%|          | 0/50 [00:00<?, ?it/s]"
      ]
     },
     "metadata": {},
     "output_type": "display_data"
    },
    {
     "name": "stderr",
     "output_type": "stream",
     "text": [
      "C:\\Users\\guswn\\anaconda3\\lib\\site-packages\\selenium\\webdriver\\remote\\webdriver.py:1315: UserWarning: name used for saved screenshot does not match file type. It should end with a `.png` extension\n",
      "  warnings.warn(\"name used for saved screenshot does not match file \"\n"
     ]
    },
    {
     "name": "stdout",
     "output_type": "stream",
     "text": [
      "끝끝끝끝끝끝끝끝끝끝끝끝끝끝끝끝끝끝끝끝끝끝끝끝끝끝끝끝끝끝끝끝끝끝끝끝끝끝끝끝끝끝끝끝끝끝\n",
      "끝끝끝끝끝끝끝끝끝끝끝끝끝끝끝끝끝끝끝끝끝끝끝끝끝끝끝끝끝끝끝끝끝끝끝끝끝끝끝끝끝끝끝끝끝끝\n",
      "끝끝끝끝끝끝끝끝끝끝끝끝끝끝끝끝끝끝끝끝끝끝끝끝끝끝끝끝끝끝끝끝끝끝끝끝끝끝끝끝끝끝끝끝끝끝\n"
     ]
    }
   ],
   "source": [
    "# 크롤링 실행\n",
    "for i in tqdm_notebook(range(len(url_list))):\n",
    "    link = url_list[i]\n",
    "    title = title_list[i]\n",
    "    \n",
    "    try: # 이미지 다운로드하기\n",
    "        titles, title_urls, write_dates, img_paths, page_screenshots = image_download(link, title)\n",
    "        # 리턴값 리스트 추가\n",
    "        title_lst += titles\n",
    "        title_url_lst += title_urls\n",
    "        write_date_lst += write_dates\n",
    "        img_path_lst += img_paths\n",
    "        page_screenshot_lst += page_screenshots\n",
    "    except: #오류발생 페이지 목록 생성\n",
    "        error_url_lst.append(link)\n",
    "        error_tit_lst.append(title)\n",
    "        \n",
    "# 디시인사이이드 라벨링, 신고 url 추가\n",
    "for i in range(len(title_lst)):\n",
    "    kind_lst.append(\"F\")\n",
    "    report_link_lst.append(\"https://www.fmkorea.com/suggest\")\n",
    "\n",
    "print(\"끝끝끝끝끝끝끝끝끝끝끝끝끝끝끝끝끝끝끝끝끝끝끝끝끝끝끝끝끝끝끝끝끝끝끝끝끝끝끝끝끝끝끝끝끝끝\")\n",
    "print(\"끝끝끝끝끝끝끝끝끝끝끝끝끝끝끝끝끝끝끝끝끝끝끝끝끝끝끝끝끝끝끝끝끝끝끝끝끝끝끝끝끝끝끝끝끝끝\")\n",
    "print(\"끝끝끝끝끝끝끝끝끝끝끝끝끝끝끝끝끝끝끝끝끝끝끝끝끝끝끝끝끝끝끝끝끝끝끝끝끝끝끝끝끝끝끝끝끝끝\")\n"
   ]
  },
  {
   "cell_type": "code",
   "execution_count": 8,
   "id": "b268428a",
   "metadata": {},
   "outputs": [
    {
     "name": "stdout",
     "output_type": "stream",
     "text": [
      "79\n",
      "79\n",
      "79\n",
      "79\n",
      "79\n",
      "79\n"
     ]
    }
   ],
   "source": [
    "# 출력값이 다 같아야함\n",
    "print(len(title_lst))\n",
    "print(len(title_url_lst))\n",
    "print(len(page_screenshot_lst))\n",
    "print(len(report_link_lst))\n",
    "print(len(kind_lst))\n",
    "print(len(img_path_lst))"
   ]
  },
  {
   "cell_type": "markdown",
   "id": "3bf4a429",
   "metadata": {},
   "source": [
    "## 에러관리 ( 확인 필수!!!!!! )"
   ]
  },
  {
   "cell_type": "markdown",
   "id": "dc7b97b9",
   "metadata": {},
   "source": [
    "- 에러 관리 판단은 팀원과 함께! 혼자 판단하지말기"
   ]
  },
  {
   "cell_type": "code",
   "execution_count": 9,
   "id": "eb6bd68d",
   "metadata": {},
   "outputs": [
    {
     "name": "stdout",
     "output_type": "stream",
     "text": [
      "에러 발생 0건\n"
     ]
    }
   ],
   "source": [
    "# 에러 발생한 페이지 목록 출력\n",
    "print(\"에러 발생 \"+str(len(error_url_lst))+\"건\")\n",
    "for i in error_url_lst:\n",
    "    print(i)"
   ]
  },
  {
   "cell_type": "code",
   "execution_count": 10,
   "id": "60abdbec",
   "metadata": {},
   "outputs": [],
   "source": [
    "# # 에러 많이 발생했을경우 이 셀을 주석 풀고 실행\n",
    "# error_url_lst2 = []\n",
    "# error_tit_lst2 = []\n",
    "\n",
    "# kind_lst = []\n",
    "# report_link_lst = []\n",
    "\n",
    "# for i in tqdm_notebook(range(len(error_url_lst))):\n",
    "#     link = error_url_lst[i]\n",
    "#     title = error_tit_lst[i]\n",
    "    \n",
    "#     try: # 이미지 다운로드하기\n",
    "#         titles, title_urls, write_dates, img_paths, page_screenshots = image_download(link, title)\n",
    "#         # 리턴값 리스트 추가\n",
    "#         title_lst += titles\n",
    "#         title_url_lst += title_urls\n",
    "#         write_date_lst += write_dates\n",
    "#         img_path_lst += img_paths\n",
    "#         page_screenshot_lst += page_screenshots\n",
    "#     except: #오류발생 페이지 목록 생성\n",
    "#         error_url_lst2.append(link)\n",
    "#         error_tit_lst2.append(title)\n",
    "\n",
    "# for i in range(len(title_lst)):\n",
    "#     kind_lst.append(\"F\")\n",
    "#     report_link_lst.append(\"https://www.fmkorea.com/suggest\")\n",
    "\n",
    "# print(\"끝끝끝끝끝끝끝끝끝끝끝끝끝끝끝끝끝끝끝끝끝끝끝끝끝끝끝끝끝끝끝끝끝끝끝끝끝끝끝끝끝끝끝끝끝끝\")\n",
    "# print(\"끝끝끝끝끝끝끝끝끝끝끝끝끝끝끝끝끝끝끝끝끝끝끝끝끝끝끝끝끝끝끝끝끝끝끝끝끝끝끝끝끝끝끝끝끝끝\")\n",
    "# print(\"끝끝끝끝끝끝끝끝끝끝끝끝끝끝끝끝끝끝끝끝끝끝끝끝끝끝끝끝끝끝끝끝끝끝끝끝끝끝끝끝끝끝끝끝끝끝\")\n"
   ]
  },
  {
   "cell_type": "code",
   "execution_count": 11,
   "id": "45fb0201",
   "metadata": {},
   "outputs": [],
   "source": [
    "# print(\"에러 발생 \"+str(len(error_url_lst2))+\"건\")\n",
    "# for i in error_url_lst2:\n",
    "#     print(i)"
   ]
  },
  {
   "cell_type": "markdown",
   "id": "d17a2ec4",
   "metadata": {},
   "source": [
    "## 크롤링 데이터 전처리 (수정 금지!)"
   ]
  },
  {
   "cell_type": "code",
   "execution_count": 12,
   "id": "084b63cb",
   "metadata": {},
   "outputs": [],
   "source": [
    "# 데이터 프레임화 시키기위한 덱셔너리 생성\n",
    "dic = { # 크롤링 테이블\n",
    "    'crawl_title' : title_lst,\n",
    "    'crawl_url' : title_url_lst,\n",
    "    'crawl_screenshot' : page_screenshot_lst,\n",
    "    'crawl_report_link' : report_link_lst,\n",
    "    'crawl_kind' : kind_lst\n",
    "}\n",
    "\n",
    "dic2 = {\n",
    "    'crawl_title' : title_lst,\n",
    "    'crawl_url' : title_url_lst,\n",
    "    'img' : img_path_lst\n",
    "}\n",
    "\n",
    "# 크롤링 테이블용 DF\n",
    "df = pd.DataFrame(dic)\n",
    "df.drop_duplicates(subset=['crawl_url'], inplace=True) # 중복 컬럼 제거\n",
    "df.reset_index(drop=True, inplace=True)\n",
    "\n",
    "# 전처리용 DF\n",
    "df2 = pd.DataFrame(dic2)"
   ]
  },
  {
   "cell_type": "code",
   "execution_count": 13,
   "id": "8d6fea7a",
   "metadata": {},
   "outputs": [],
   "source": [
    "# df"
   ]
  },
  {
   "cell_type": "code",
   "execution_count": 14,
   "id": "a074104b",
   "metadata": {},
   "outputs": [],
   "source": [
    "# df2"
   ]
  },
  {
   "cell_type": "code",
   "execution_count": 15,
   "id": "762974fc",
   "metadata": {},
   "outputs": [],
   "source": [
    "# 이미지 테이블용 DF\n",
    "add_title_list = df.loc[:,\"crawl_title\"]\n",
    "add_url_list = df.loc[:,\"crawl_url\"]\n",
    "nan_list = []\n",
    "\n",
    "for t in range(len(add_title_list)) : \n",
    "    add_title = [add_title_list[t]] # []로 묶어서 리스트로 바꿔줌\n",
    "    add_url = [add_url_list[t]]\n",
    "    add_img_list = list(df2.loc[df.loc[t,\"crawl_url\"] == df2.loc[:,\"crawl_url\"], \"img\"])\n",
    "    chunk_list = list_chunk(add_img_list, 10)\n",
    "\n",
    "    for i in range(len(chunk_list)):\n",
    "        lst = nan_list_make()\n",
    "        add_lst = add_title + add_url + chunk_list[i]\n",
    "        for j in range(len(add_lst)):\n",
    "            lst[j] = add_lst[j]\n",
    "        \n",
    "        nan_list.append(lst)\n",
    "\n",
    "df3 = pd.DataFrame(\n",
    "    nan_list,\n",
    "    columns=['crawl_title',\"crawl_url\",'img_file1','img_file2','img_file3',\n",
    "             'img_file4','img_file5','img_file6','img_file7','img_file8',\n",
    "             'img_file9','img_file10']\n",
    ")"
   ]
  },
  {
   "cell_type": "code",
   "execution_count": 16,
   "id": "fa1ccaf3",
   "metadata": {},
   "outputs": [],
   "source": [
    "# df"
   ]
  },
  {
   "cell_type": "code",
   "execution_count": 17,
   "id": "13ce6f68",
   "metadata": {},
   "outputs": [],
   "source": [
    "# 엑셀 파일로 내보내기전에 인덱스 설정\n",
    "df.set_index(\"crawl_title\", inplace=True)\n",
    "df3.set_index(\"crawl_title\", inplace=True)"
   ]
  },
  {
   "cell_type": "code",
   "execution_count": 18,
   "id": "8c918c0e",
   "metadata": {},
   "outputs": [],
   "source": [
    "# 엑셀 내보내기\n",
    "df.to_excel(f\"./F_excel/{board_name}_크롤링테이블.xlsx\", encoding=\"utf-8\")\n",
    "df3.to_excel(f\"./F_excel/{board_name}_이미지테이블.xlsx\", encoding=\"utf-8\")"
   ]
  },
  {
   "cell_type": "code",
   "execution_count": null,
   "id": "40759a74",
   "metadata": {},
   "outputs": [],
   "source": []
  }
 ],
 "metadata": {
  "kernelspec": {
   "display_name": "Python 3",
   "language": "python",
   "name": "python3"
  },
  "language_info": {
   "codemirror_mode": {
    "name": "ipython",
    "version": 3
   },
   "file_extension": ".py",
   "mimetype": "text/x-python",
   "name": "python",
   "nbconvert_exporter": "python",
   "pygments_lexer": "ipython3",
   "version": "3.8.8"
  }
 },
 "nbformat": 4,
 "nbformat_minor": 5
}

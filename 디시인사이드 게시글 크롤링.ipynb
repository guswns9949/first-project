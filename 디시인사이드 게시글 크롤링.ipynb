{
 "cells": [
  {
   "cell_type": "markdown",
   "id": "7ba0ca09",
   "metadata": {},
   "source": [
    "# gall_name 이외 건드리면 난리남\n",
    "---\n",
    "---\n",
    "## !!! Selenium-Screenshot : 스크린샷 모듈 없으면 인스톨 필요함"
   ]
  },
  {
   "cell_type": "markdown",
   "id": "08991739",
   "metadata": {},
   "source": [
    "#### [설명서]\n",
    "-----\n",
    "- gall_name : 갤러리명\n",
    "- Kernel >> Restrat & Run ALL 누르면 끝"
   ]
  },
  {
   "cell_type": "code",
   "execution_count": 1,
   "id": "6a57ec18",
   "metadata": {},
   "outputs": [],
   "source": [
    "gall_name = \"과자달리기_조현준\" # <<<<<<<<<<<<<<<< 갤러리명 입력!!\n",
    "                         # 1만개를 분할해서 돌릴때는 뒤에 숫자 1, 2, 3, ... 로 구분해줘야함"
   ]
  },
  {
   "cell_type": "code",
   "execution_count": 2,
   "id": "ac81e621",
   "metadata": {},
   "outputs": [],
   "source": [
    "# # 스크린샷 모듈 설치 필요함 <<<<<<<<<<< 없으면 주석풀고 인스톨\n",
    "# !pip install Selenium-Screenshot"
   ]
  },
  {
   "cell_type": "code",
   "execution_count": 3,
   "id": "22b54f42",
   "metadata": {},
   "outputs": [],
   "source": [
    "import pandas as pd\n",
    "read_df = pd.read_excel(\"./url_list/과자달리기_주소목록.xlsx\") #<< 크롤링돌릴 엑셀 경로 입력\n",
    "# read_df.head(5)"
   ]
  },
  {
   "cell_type": "markdown",
   "id": "a107cd78",
   "metadata": {},
   "source": [
    "- 1만개씩이 너무 많은사람을 위한 기능( 바로 아래 셀 주석 풀기)"
   ]
  },
  {
   "cell_type": "code",
   "execution_count": 4,
   "id": "fdb8b7cc",
   "metadata": {},
   "outputs": [
    {
     "data": {
      "text/plain": [
       "4"
      ]
     },
     "execution_count": 4,
     "metadata": {},
     "output_type": "execute_result"
    }
   ],
   "source": [
    "import pandas as pd\n",
    "def df_split(dataframe,num) :  \n",
    "    df_lst = []\n",
    "    cnt = 0\n",
    "    for i in range(num,len(dataframe),num) :\n",
    "        #print(i)\n",
    "        df_lst.append(dataframe.iloc[cnt:i,:])\n",
    "        cnt += num\n",
    "\n",
    "    df_lst.append(dataframe.iloc[cnt:, :])\n",
    "    return df_lst\n",
    "\n",
    "df_list = df_split(read_df ,50) # (분할할 데이터프레임 ,몇개씩 나눌지 입력)\n",
    "len(df_list) # <<<<"
   ]
  },
  {
   "cell_type": "markdown",
   "id": "2da139af",
   "metadata": {},
   "source": [
    "- len(df_list)의 결과값을 확인하고\n",
    "- 0부터 결과값-1 까지 숫자 바꿔가면서 돌리면됨"
   ]
  },
  {
   "cell_type": "code",
   "execution_count": 5,
   "id": "1679322a",
   "metadata": {},
   "outputs": [
    {
     "data": {
      "text/plain": [
       "(12, 12)"
      ]
     },
     "execution_count": 5,
     "metadata": {},
     "output_type": "execute_result"
    }
   ],
   "source": [
    "# # 기본 실행\n",
    "# title_list = read_df.loc[:,\"title\"]\n",
    "# url_list = read_df.loc[:,\"url\"]\n",
    "# len(url_list), len(title_list)\n",
    "\n",
    "# 1만개에서 분할을 했다?! 이걸 주석풀고 위에 주석처리\n",
    "title_list = list(df_list[3].loc[:,\"title\"]) # 여기랑\n",
    "url_list = list(df_list[3].loc[:,\"url\"]) # 여기 숫자들 같이 0부터 차례대로\n",
    "len(url_list), len(title_list)"
   ]
  },
  {
   "cell_type": "code",
   "execution_count": 6,
   "id": "d8576f6b",
   "metadata": {},
   "outputs": [],
   "source": [
    "import numpy as np\n",
    "import pandas as pd\n",
    "from tqdm import tqdm_notebook\n",
    "from Screenshot import Screenshot_Clipping\n",
    "import requests\n",
    "from bs4 import BeautifulSoup\n",
    "import time\n",
    "from os.path import getsize\n",
    "import os.path\n",
    "from selenium import webdriver as wb\n",
    "from selenium.webdriver.common.keys import Keys\n",
    "from urllib.request import urlretrieve\n",
    "from Screenshot import Screenshot_Clipping\n",
    "from selenium.webdriver.chrome.options import Options\n",
    "import datetime"
   ]
  },
  {
   "cell_type": "markdown",
   "id": "9f34584b",
   "metadata": {},
   "source": [
    "### 1. 크롤링 기능 설계"
   ]
  },
  {
   "cell_type": "code",
   "execution_count": 7,
   "id": "ebac88bc",
   "metadata": {},
   "outputs": [],
   "source": [
    "# 현재날짜시간초로 고유값 라벨링 해주는 도구\n",
    "def time_label():\n",
    "    date_time = datetime.datetime.now()\n",
    "    now_time = str(date_time).replace(\" \",\"\").replace(\"-\",\"\").replace(\":\",\"\").replace(\".\",\"\")\n",
    "    return now_time\n",
    "\n",
    "# 11칸 짜리 nan값 리스트 만들기\n",
    "def nan_list_make():\n",
    "    baseList = np.empty(12)\n",
    "    baseList[:] = np.nan\n",
    "    baseList = list(baseList)\n",
    "    baseList\n",
    "    return baseList\n",
    "\n",
    "# 추가할 행 계산기\n",
    "def row_count(img_list):\n",
    "    row_cal = divmod(len(img_list),10)\n",
    "    row_cnt = row_cal[0]\n",
    "    if row_cal[1] > 0 :\n",
    "        row_cnt += 1\n",
    "    return row_cnt\n",
    "\n",
    "# 리스트 10개씩 분할\n",
    "def list_chunk(lst, n):\n",
    "    return [lst[i:i+n] for i in range(0, len(lst), n)]"
   ]
  },
  {
   "cell_type": "code",
   "execution_count": 8,
   "id": "1e6248fd",
   "metadata": {
    "scrolled": true
   },
   "outputs": [],
   "source": [
    "# 크롤링 코드\n",
    "def image_download(BASE_URL, title):\n",
    "    # 코드실행시각\n",
    "    now_label = str(time_label())\n",
    "    \n",
    "    title_list = []\n",
    "    title_url_list = []\n",
    "    write_date_list = []\n",
    "    img_path_list = []\n",
    "    page_screenshot_list = []\n",
    "    \n",
    "    # 스샷찍을 도구----------------------\n",
    "    options = wb.ChromeOptions() # 셀레니움 옵션\n",
    "    options.add_argument(\"headless\") # 브라우저 창 없이 실행\n",
    "    options.add_argument(\"window-size=1920x1080\")  # 브라우저 사이즈 조절\n",
    "    #options.add_argument('--start-maximized') #브라우저가 최대화된 상태로 실행됩니다.\n",
    "    options.add_argument(\"disable-gpu\")\n",
    "    options.add_argument(\"user-agent=Mozilla/5.0 (Macintosh; Intel Mac OS X 10_12_6) AppleWebKit/537.36 (KHTML, like Gecko) Chrome/61.0.3163.100 Safari/537.36\") \n",
    "    options.add_argument(\"lang=ko_KR\") \n",
    "    options.add_argument(\"Content-Type=application/json; charset=utf-8\") \n",
    "    driver = wb.Chrome(options=options)\n",
    "    #sshot=Screenshot_Clipping.Screenshot()\n",
    "\n",
    "    # 헤더 설정 (필요한 대부분의 정보 제공 -> Bot Block 회피)\n",
    "    headers = {\n",
    "    \"Connection\" : \"keep-alive\",\n",
    "    \"Cache-Control\" : \"max-age=0\",\n",
    "    \"sec-ch-ua-mobile\" : \"?0\",\n",
    "    \"DNT\" : \"1\",\n",
    "    \"Upgrade-Insecure-Requests\" : \"1\",\n",
    "    \"User-Agent\" : \"Mozilla/5.0 (Windows NT 10.0; Win64; x64) AppleWebKit/537.36 (KHTML, like Gecko) Chrome/90.0.4430.93 Safari/537.36\",\n",
    "    \"Accept\" : \"text/html,application/xhtml+xml,application/xml;q=0.9,image/avif,image/webp,image/apng,*/*;q=0.8,application/signed-exchange;v=b3;q=0.9\",\n",
    "    \"Sec-Fetch-Site\" : \"none\",\n",
    "    \"Sec-Fetch-Mode\" : \"navigate\",\n",
    "    \"Sec-Fetch-User\" : \"?1\",\n",
    "    \"Sec-Fetch-Dest\" : \"document\",\n",
    "    \"Accept-Encoding\" : \"gzip, deflate, br\",\n",
    "    \"Accept-Language\" : \"ko-KR,ko;q=0.9\"\n",
    "    }\n",
    "\n",
    "    # 페이지 가공\n",
    "    res = requests.get(BASE_URL, headers=headers)\n",
    "    html = res.text\n",
    "    soup = BeautifulSoup(html, 'html.parser')\n",
    "    \n",
    "    write_date = soup.select_one(\"div.fl > span.gall_date\").get(\"title\") # 작성일 데이터 수집\n",
    "    w_date = write_date.replace(\" \", \"\").replace(\"-\", \"\").replace(\":\", \"\") # 숫자제외 문자열 제거\n",
    "    date_check = str(write_date).split(\" \")[0].replace(\"-\",\"\")  # 날짜까지만\n",
    "    \n",
    "    \n",
    "    # 페이지 스크린샷 -- 여기만 셀레니움으로 실행\n",
    "    driver.get(BASE_URL)\n",
    "    time.sleep(0.3)\n",
    "    screenshot = driver.save_screenshot(f'./screenshot/sshot_{now_label}.jpg')\n",
    "    time.sleep(0.3)\n",
    "    driver.quit()\n",
    "    \n",
    "    # 데이터 수집,이미지 저장\n",
    "    image_download_contents = soup.select(\"div.appending_file_box ul li\")\n",
    "    for li in image_download_contents:\n",
    "        title_list.append(title)\n",
    "        title_url_list.append(BASE_URL)\n",
    "        write_date_list.append(write_date) # write_date : 게시글 작성 시간\n",
    "        page_screenshot_list.append(f'sshot_{now_label}.jpg')\n",
    "\n",
    "        img_tag = li.find('a', href=True)\n",
    "        img_url = img_tag['href']\n",
    "\n",
    "        file_ext = img_url.split('.')[-1] # ???\n",
    "\n",
    "        #저장될 파일명\n",
    "        savename = img_url.split(\"no=\")[2].split(\".\")\n",
    "        headers['Referer'] = BASE_URL\n",
    "        response = requests.get(img_url, headers=headers)\n",
    "        save_time = time_label()\n",
    "        path = f\"image/{savename[0]}_{save_time}.jpg\"\n",
    "\n",
    "        img_path_list.append(f\"{savename[0]}_{save_time}.jpg\")\n",
    "        file = open(path , \"wb\")\n",
    "        file.write(response.content)\n",
    "        time.sleep(0.01)\n",
    "        file.close()\n",
    "        \n",
    "    return title_list, title_url_list, write_date_list, img_path_list, page_screenshot_list"
   ]
  },
  {
   "cell_type": "markdown",
   "id": "153c0a68",
   "metadata": {},
   "source": [
    "### 크롤링 실행 코드"
   ]
  },
  {
   "cell_type": "code",
   "execution_count": 9,
   "id": "e2c7c440",
   "metadata": {},
   "outputs": [
    {
     "name": "stderr",
     "output_type": "stream",
     "text": [
      "<ipython-input-9-883c7de9dbf3>:13: TqdmDeprecationWarning: This function will be removed in tqdm==5.0.0\n",
      "Please use `tqdm.notebook.tqdm` instead of `tqdm.tqdm_notebook`\n",
      "  for i in tqdm_notebook(range(len(url_list))):\n"
     ]
    },
    {
     "data": {
      "application/vnd.jupyter.widget-view+json": {
       "model_id": "ea4df723d49547bda72adc8c2db17d7b",
       "version_major": 2,
       "version_minor": 0
      },
      "text/plain": [
       "  0%|          | 0/12 [00:00<?, ?it/s]"
      ]
     },
     "metadata": {},
     "output_type": "display_data"
    },
    {
     "name": "stderr",
     "output_type": "stream",
     "text": [
      "C:\\Users\\guswn\\anaconda3\\lib\\site-packages\\selenium\\webdriver\\remote\\webdriver.py:1315: UserWarning: name used for saved screenshot does not match file type. It should end with a `.png` extension\n",
      "  warnings.warn(\"name used for saved screenshot does not match file \"\n"
     ]
    },
    {
     "name": "stdout",
     "output_type": "stream",
     "text": [
      "끝끝끝끝끝끝끝끝끝끝끝끝끝끝끝끝끝끝끝끝끝끝끝끝끝끝끝끝끝끝끝끝끝끝끝끝끝끝끝끝끝끝끝끝끝끝\n",
      "끝끝끝끝끝끝끝끝끝끝끝끝끝끝끝끝끝끝끝끝끝끝끝끝끝끝끝끝끝끝끝끝끝끝끝끝끝끝끝끝끝끝끝끝끝끝\n",
      "끝끝끝끝끝끝끝끝끝끝끝끝끝끝끝끝끝끝끝끝끝끝끝끝끝끝끝끝끝끝끝끝끝끝끝끝끝끝끝끝끝끝끝끝끝끝\n"
     ]
    }
   ],
   "source": [
    "# 게시글 크롤링\n",
    "title_lst = [] # 게시글 제목 리스트\n",
    "title_url_lst = [] # 게시글 주소\n",
    "write_date_lst = [] # 게시글 작성일\n",
    "img_path_lst = [] # 이미지 저장 이름\n",
    "page_screenshot_lst = [] # 게시글 스크린샷\n",
    "kind_lst = [] # 커뮤니티 종류\n",
    "report_link_lst = [] # 신고 주소\n",
    "\n",
    "error_url_lst = [] # 크롤링 에러 발생 페이지 주소\n",
    "error_tit_lst = [] # 크롤링 에러 발생 페이지 제목\n",
    "\n",
    "for i in tqdm_notebook(range(len(url_list))):\n",
    "    link = url_list[i]\n",
    "    title = title_list[i]\n",
    "    \n",
    "    try: # 이미지 다운로드하기\n",
    "        titles, title_urls, write_dates, img_paths, page_screenshots = image_download(link, title)\n",
    "        time.sleep(0.5)\n",
    "        # 리턴값 리스트 추가\n",
    "        title_lst += titles\n",
    "        title_url_lst += title_urls\n",
    "        write_date_lst += write_dates\n",
    "        img_path_lst += img_paths\n",
    "        page_screenshot_lst += page_screenshots\n",
    "    except: #오류발생 페이지 목록 생성\n",
    "        error_url_lst.append(link)\n",
    "        error_tit_lst.append(title)\n",
    "\n",
    "for i in range(len(title_lst)):\n",
    "    kind_lst.append(\"D\")\n",
    "    report_link_lst.append(\"https://gall.dcinside.com/singo/?id=singo\")\n",
    "\n",
    "print(\"끝끝끝끝끝끝끝끝끝끝끝끝끝끝끝끝끝끝끝끝끝끝끝끝끝끝끝끝끝끝끝끝끝끝끝끝끝끝끝끝끝끝끝끝끝끝\")\n",
    "print(\"끝끝끝끝끝끝끝끝끝끝끝끝끝끝끝끝끝끝끝끝끝끝끝끝끝끝끝끝끝끝끝끝끝끝끝끝끝끝끝끝끝끝끝끝끝끝\")\n",
    "print(\"끝끝끝끝끝끝끝끝끝끝끝끝끝끝끝끝끝끝끝끝끝끝끝끝끝끝끝끝끝끝끝끝끝끝끝끝끝끝끝끝끝끝끝끝끝끝\")\n"
   ]
  },
  {
   "cell_type": "markdown",
   "id": "d5af0abf",
   "metadata": {},
   "source": [
    "# 에러 관리"
   ]
  },
  {
   "cell_type": "code",
   "execution_count": 10,
   "id": "0166ec78",
   "metadata": {},
   "outputs": [
    {
     "name": "stdout",
     "output_type": "stream",
     "text": [
      "에러 발생 0건\n"
     ]
    }
   ],
   "source": [
    "# 에러 발생한 페이지 목록 출력\n",
    "print(\"에러 발생 \"+str(len(error_url_lst))+\"건\")\n",
    "for i in error_url_lst:\n",
    "    print(i)"
   ]
  },
  {
   "cell_type": "code",
   "execution_count": 11,
   "id": "1cc2d5df",
   "metadata": {},
   "outputs": [],
   "source": [
    "# # 에러 많이 발생했을경우 이 셀을 주석 풀고 실행\n",
    "# error_url_lst2 = []\n",
    "# error_tit_lst2 = []\n",
    "\n",
    "# title_lst = []\n",
    "# title_url_lst = []\n",
    "# write_date_lst = []\n",
    "# img_path_lst = []\n",
    "# page_screenshot_lst = []\n",
    "# kind_lst = []\n",
    "# report_link_lst = []\n",
    "\n",
    "# for i in tqdm_notebook(range(len(error_url_lst))):\n",
    "#     link = error_url_lst[i]\n",
    "#     title = error_tit_lst[i]\n",
    "    \n",
    "#     try: # 이미지 다운로드하기\n",
    "#         titles, title_urls, write_dates, img_paths, page_screenshots = image_download(link, title)\n",
    "#         time.sleep(0.5)\n",
    "#         # 리턴값 리스트 추가\n",
    "#         title_lst += titles\n",
    "#         title_url_lst += title_urls\n",
    "#         write_date_lst += write_dates\n",
    "#         img_path_lst += img_paths\n",
    "#         page_screenshot_lst += page_screenshots\n",
    "#     except: #오류발생 페이지 목록 생성\n",
    "#         error_url_lst2.append(link)\n",
    "#         error_tit_lst2.append(title)\n",
    "\n",
    "# for i in range(len(title_lst)):\n",
    "#     kind_lst.append(\"D\")\n",
    "#     report_link_lst.append(\"https://gall.dcinside.com/singo/?id=singo\")\n",
    "\n",
    "# print(\"끝끝끝끝끝끝끝끝끝끝끝끝끝끝끝끝끝끝끝끝끝끝끝끝끝끝끝끝끝끝끝끝끝끝끝끝끝끝끝끝끝끝끝끝끝끝\")\n",
    "# print(\"끝끝끝끝끝끝끝끝끝끝끝끝끝끝끝끝끝끝끝끝끝끝끝끝끝끝끝끝끝끝끝끝끝끝끝끝끝끝끝끝끝끝끝끝끝끝\")\n",
    "# print(\"끝끝끝끝끝끝끝끝끝끝끝끝끝끝끝끝끝끝끝끝끝끝끝끝끝끝끝끝끝끝끝끝끝끝끝끝끝끝끝끝끝끝끝끝끝끝\")\n",
    "# print(\"에러 발생 \"+str(len(error_url_lst))+\"건\")\n",
    "# for i in error_url_lst2:\n",
    "#     print(i)"
   ]
  },
  {
   "cell_type": "markdown",
   "id": "dc500aad",
   "metadata": {},
   "source": [
    "## 크롤링 데이터 다루기"
   ]
  },
  {
   "cell_type": "code",
   "execution_count": 12,
   "id": "b2a0bf2c",
   "metadata": {},
   "outputs": [],
   "source": [
    "# 데이터 프레임화 시키기위한 덱셔너리 생성\n",
    "dic = { # 크롤링 테이블\n",
    "    'crawl_title' : title_lst,\n",
    "    'crawl_url' : title_url_lst,\n",
    "    'crawl_screenshot' : page_screenshot_lst,\n",
    "    'crawl_report_link' : report_link_lst,\n",
    "    'crawl_kind' : kind_lst\n",
    "}\n",
    "\n",
    "dic2 = {\n",
    "    'crawl_title' : title_lst,\n",
    "    'crawl_url' : title_url_lst,\n",
    "    'img' : img_path_lst\n",
    "}\n",
    "\n",
    "# 크롤링 테이블용 DF\n",
    "df = pd.DataFrame(dic)\n",
    "df.drop_duplicates(subset=['crawl_url'], inplace=True) # 중복 컬럼 제거\n",
    "df.reset_index(drop=True, inplace=True)\n",
    "\n",
    "# 전처리용 DF\n",
    "df2 = pd.DataFrame(dic2)"
   ]
  },
  {
   "cell_type": "code",
   "execution_count": 13,
   "id": "4f1d9cca",
   "metadata": {},
   "outputs": [],
   "source": [
    "# df"
   ]
  },
  {
   "cell_type": "code",
   "execution_count": 14,
   "id": "8d5114e1",
   "metadata": {},
   "outputs": [],
   "source": [
    "# df2"
   ]
  },
  {
   "cell_type": "code",
   "execution_count": 15,
   "id": "db11146f",
   "metadata": {},
   "outputs": [],
   "source": [
    "# 이미지 테이블용 DF\n",
    "add_title_list = df.loc[:,\"crawl_title\"]\n",
    "add_url_list = df.loc[:,\"crawl_url\"]\n",
    "nan_list = []\n",
    "\n",
    "for t in range(len(add_title_list)) : \n",
    "    add_title = [add_title_list[t]] # []로 묶어서 리스트로 바꿔줌\n",
    "    add_url = [add_url_list[t]]\n",
    "    add_img_list = list(df2.loc[df.loc[t,\"crawl_url\"] == df2.loc[:,\"crawl_url\"], \"img\"])\n",
    "    chunk_list = list_chunk(add_img_list, 10)\n",
    "\n",
    "    for i in range(len(chunk_list)):\n",
    "        lst = nan_list_make()\n",
    "        add_lst = add_title + add_url + chunk_list[i]\n",
    "        for j in range(len(add_lst)):\n",
    "            lst[j] = add_lst[j]\n",
    "        \n",
    "        nan_list.append(lst)\n",
    "\n",
    "df3 = pd.DataFrame(\n",
    "    nan_list,\n",
    "    columns=['crawl_title',\"crawl_url\",'img_file1','img_file2','img_file3',\n",
    "             'img_file4','img_file5','img_file6','img_file7','img_file8',\n",
    "             'img_file9','img_file10']\n",
    ")"
   ]
  },
  {
   "cell_type": "code",
   "execution_count": 16,
   "id": "c946f80f",
   "metadata": {},
   "outputs": [],
   "source": [
    "# df3"
   ]
  },
  {
   "cell_type": "code",
   "execution_count": 17,
   "id": "18a6844f",
   "metadata": {},
   "outputs": [],
   "source": [
    "# df"
   ]
  },
  {
   "cell_type": "code",
   "execution_count": 18,
   "id": "faefa40e",
   "metadata": {},
   "outputs": [],
   "source": [
    "# 엑셀 파일로 내보내기전에 인덱스 설정\n",
    "df.set_index(\"crawl_title\", inplace=True)\n",
    "df3.set_index(\"crawl_title\", inplace=True)"
   ]
  },
  {
   "cell_type": "code",
   "execution_count": 19,
   "id": "70769afc",
   "metadata": {},
   "outputs": [],
   "source": [
    "# 엑셀 내보내기\n",
    "df.to_excel(f\"./excel/{gall_name}_크롤링테이블.xlsx\", encoding=\"utf-8\")\n",
    "df3.to_excel(f\"./excel/{gall_name}_이미지테이블.xlsx\", encoding=\"utf-8\")"
   ]
  },
  {
   "cell_type": "code",
   "execution_count": null,
   "id": "64b95647",
   "metadata": {},
   "outputs": [],
   "source": []
  }
 ],
 "metadata": {
  "kernelspec": {
   "display_name": "Python 3",
   "language": "python",
   "name": "python3"
  },
  "language_info": {
   "codemirror_mode": {
    "name": "ipython",
    "version": 3
   },
   "file_extension": ".py",
   "mimetype": "text/x-python",
   "name": "python",
   "nbconvert_exporter": "python",
   "pygments_lexer": "ipython3",
   "version": "3.8.8"
  }
 },
 "nbformat": 4,
 "nbformat_minor": 5
}
